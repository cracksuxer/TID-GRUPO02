{
 "cells": [
  {
   "cell_type": "code",
   "execution_count": 37,
   "metadata": {},
   "outputs": [],
   "source": [
    "import numpy as np\n",
    "import matplotlib.pyplot as plt\n",
    "\n",
    "from sklearn import datasets\n",
    "from sklearn.model_selection import train_test_split\n",
    "from sklearn.linear_model import Perceptron\n",
    "from sklearn.neural_network import MLPClassifier\n",
    "from sklearn.metrics import log_loss, accuracy_score, classification_report, confusion_matrix\n",
    "from sklearn.metrics import roc_curve\n",
    "from sklearn.metrics import roc_auc_score\n",
    "from imblearn.over_sampling import SMOTE\n",
    "\n",
    "import pandas as pd\n",
    "\n",
    "from datetime import datetime\n",
    "\n",
    "from rich import print\n",
    "from rich.console import Console\n",
    "from rich.traceback import install\n",
    "\n",
    "install(show_locals=True)\n",
    "console = Console()"
   ]
  },
  {
   "cell_type": "code",
   "execution_count": 38,
   "metadata": {},
   "outputs": [
    {
     "data": {
      "text/html": [
       "<pre style=\"white-space:pre;overflow-x:auto;line-height:normal;font-family:Menlo,'DejaVu Sans Mono',consolas,'Courier New',monospace\">n_samples: <span style=\"color: #008080; text-decoration-color: #008080; font-weight: bold\">284807</span>, n_features: <span style=\"color: #008080; text-decoration-color: #008080; font-weight: bold\">31</span>\n",
       "</pre>\n"
      ],
      "text/plain": [
       "n_samples: \u001b[1;36m284807\u001b[0m, n_features: \u001b[1;36m31\u001b[0m\n"
      ]
     },
     "metadata": {},
     "output_type": "display_data"
    }
   ],
   "source": [
    "# The digits dataset, train set\n",
    "cc_df = pd.read_csv('./data/creditcard.csv')\n",
    "\n",
    "(n_samples, n_features) = cc_df.shape\n",
    "\n",
    "print(f\"n_samples: {n_samples}, n_features: {n_features}\")"
   ]
  },
  {
   "attachments": {},
   "cell_type": "markdown",
   "metadata": {},
   "source": [
    "#### Preprocesamiento"
   ]
  },
  {
   "attachments": {},
   "cell_type": "markdown",
   "metadata": {},
   "source": [
    "##### Balanceamiento"
   ]
  },
  {
   "cell_type": "code",
   "execution_count": 39,
   "metadata": {},
   "outputs": [
    {
     "data": {
      "text/html": [
       "<pre style=\"white-space:pre;overflow-x:auto;line-height:normal;font-family:Menlo,'DejaVu Sans Mono',consolas,'Courier New',monospace\">Valores de la columna Class:\n",
       "</pre>\n"
      ],
      "text/plain": [
       "Valores de la columna Class:\n"
      ]
     },
     "metadata": {},
     "output_type": "display_data"
    },
    {
     "data": {
      "text/plain": [
       "count    568630.0\n",
       "mean          0.5\n",
       "std           0.5\n",
       "min           0.0\n",
       "25%           0.0\n",
       "50%           0.5\n",
       "75%           1.0\n",
       "max           1.0\n",
       "Name: Class, dtype: float64"
      ]
     },
     "execution_count": 39,
     "metadata": {},
     "output_type": "execute_result"
    }
   ],
   "source": [
    "FEATURES = cc_df.drop(['Class'], axis=1) # Features\n",
    "TARGET = cc_df['Class']                  # Target\n",
    "\n",
    "\n",
    "smote = SMOTE(random_state=42) # Crea un objeto SMOTE con semilla 42\n",
    "X_sm, y_sm = smote.fit_resample(FEATURES, TARGET)\n",
    "\n",
    "cc_balanced = pd.concat([pd.DataFrame(X_sm), pd.DataFrame(y_sm)], axis=1)\n",
    "\n",
    "print('Valores de la columna Class:')\n",
    "cc_balanced['Class'].describe()"
   ]
  },
  {
   "cell_type": "code",
   "execution_count": 40,
   "metadata": {},
   "outputs": [
    {
     "data": {
      "text/html": [
       "<pre style=\"white-space:pre;overflow-x:auto;line-height:normal;font-family:Menlo,'DejaVu Sans Mono',consolas,'Courier New',monospace\">V3 V1 <span style=\"color: #008080; text-decoration-color: #008080; font-weight: bold\">0.886639549368773</span>\n",
       "</pre>\n"
      ],
      "text/plain": [
       "V3 V1 \u001b[1;36m0.886639549368773\u001b[0m\n"
      ]
     },
     "metadata": {},
     "output_type": "display_data"
    },
    {
     "data": {
      "text/html": [
       "<pre style=\"white-space:pre;overflow-x:auto;line-height:normal;font-family:Menlo,'DejaVu Sans Mono',consolas,'Courier New',monospace\">V7 V1 <span style=\"color: #008080; text-decoration-color: #008080; font-weight: bold\">0.8864715968558373</span>\n",
       "</pre>\n"
      ],
      "text/plain": [
       "V7 V1 \u001b[1;36m0.8864715968558373\u001b[0m\n"
      ]
     },
     "metadata": {},
     "output_type": "display_data"
    },
    {
     "data": {
      "text/html": [
       "<pre style=\"white-space:pre;overflow-x:auto;line-height:normal;font-family:Menlo,'DejaVu Sans Mono',consolas,'Courier New',monospace\">V7 V3 <span style=\"color: #008080; text-decoration-color: #008080; font-weight: bold\">0.8917953243839568</span>\n",
       "</pre>\n"
      ],
      "text/plain": [
       "V7 V3 \u001b[1;36m0.8917953243839568\u001b[0m\n"
      ]
     },
     "metadata": {},
     "output_type": "display_data"
    },
    {
     "data": {
      "text/html": [
       "<pre style=\"white-space:pre;overflow-x:auto;line-height:normal;font-family:Menlo,'DejaVu Sans Mono',consolas,'Courier New',monospace\">V12 V10 <span style=\"color: #008080; text-decoration-color: #008080; font-weight: bold\">0.8915353883540065</span>\n",
       "</pre>\n"
      ],
      "text/plain": [
       "V12 V10 \u001b[1;36m0.8915353883540065\u001b[0m\n"
      ]
     },
     "metadata": {},
     "output_type": "display_data"
    },
    {
     "data": {
      "text/html": [
       "<pre style=\"white-space:pre;overflow-x:auto;line-height:normal;font-family:Menlo,'DejaVu Sans Mono',consolas,'Courier New',monospace\">V12 V11 <span style=\"color: #008080; text-decoration-color: #008080; font-weight: bold\">-0.9065661341077869</span>\n",
       "</pre>\n"
      ],
      "text/plain": [
       "V12 V11 \u001b[1;36m-0.9065661341077869\u001b[0m\n"
      ]
     },
     "metadata": {},
     "output_type": "display_data"
    },
    {
     "data": {
      "text/html": [
       "<pre style=\"white-space:pre;overflow-x:auto;line-height:normal;font-family:Menlo,'DejaVu Sans Mono',consolas,'Courier New',monospace\">V14 V11 <span style=\"color: #008080; text-decoration-color: #008080; font-weight: bold\">-0.8949913677963571</span>\n",
       "</pre>\n"
      ],
      "text/plain": [
       "V14 V11 \u001b[1;36m-0.8949913677963571\u001b[0m\n"
      ]
     },
     "metadata": {},
     "output_type": "display_data"
    },
    {
     "data": {
      "text/html": [
       "<pre style=\"white-space:pre;overflow-x:auto;line-height:normal;font-family:Menlo,'DejaVu Sans Mono',consolas,'Courier New',monospace\">V14 V12 <span style=\"color: #008080; text-decoration-color: #008080; font-weight: bold\">0.8861262266682038</span>\n",
       "</pre>\n"
      ],
      "text/plain": [
       "V14 V12 \u001b[1;36m0.8861262266682038\u001b[0m\n"
      ]
     },
     "metadata": {},
     "output_type": "display_data"
    },
    {
     "data": {
      "text/html": [
       "<pre style=\"white-space:pre;overflow-x:auto;line-height:normal;font-family:Menlo,'DejaVu Sans Mono',consolas,'Courier New',monospace\">V16 V12 <span style=\"color: #008080; text-decoration-color: #008080; font-weight: bold\">0.9056954991970623</span>\n",
       "</pre>\n"
      ],
      "text/plain": [
       "V16 V12 \u001b[1;36m0.9056954991970623\u001b[0m\n"
      ]
     },
     "metadata": {},
     "output_type": "display_data"
    },
    {
     "data": {
      "text/html": [
       "<pre style=\"white-space:pre;overflow-x:auto;line-height:normal;font-family:Menlo,'DejaVu Sans Mono',consolas,'Courier New',monospace\">V17 V12 <span style=\"color: #008080; text-decoration-color: #008080; font-weight: bold\">0.8813298872699891</span>\n",
       "</pre>\n"
      ],
      "text/plain": [
       "V17 V12 \u001b[1;36m0.8813298872699891\u001b[0m\n"
      ]
     },
     "metadata": {},
     "output_type": "display_data"
    },
    {
     "data": {
      "text/html": [
       "<pre style=\"white-space:pre;overflow-x:auto;line-height:normal;font-family:Menlo,'DejaVu Sans Mono',consolas,'Courier New',monospace\">V17 V16 <span style=\"color: #008080; text-decoration-color: #008080; font-weight: bold\">0.9541467364020152</span>\n",
       "</pre>\n"
      ],
      "text/plain": [
       "V17 V16 \u001b[1;36m0.9541467364020152\u001b[0m\n"
      ]
     },
     "metadata": {},
     "output_type": "display_data"
    },
    {
     "data": {
      "text/html": [
       "<pre style=\"white-space:pre;overflow-x:auto;line-height:normal;font-family:Menlo,'DejaVu Sans Mono',consolas,'Courier New',monospace\">V18 V16 <span style=\"color: #008080; text-decoration-color: #008080; font-weight: bold\">0.9079466992333602</span>\n",
       "</pre>\n"
      ],
      "text/plain": [
       "V18 V16 \u001b[1;36m0.9079466992333602\u001b[0m\n"
      ]
     },
     "metadata": {},
     "output_type": "display_data"
    },
    {
     "data": {
      "text/html": [
       "<pre style=\"white-space:pre;overflow-x:auto;line-height:normal;font-family:Menlo,'DejaVu Sans Mono',consolas,'Courier New',monospace\">V18 V17 <span style=\"color: #008080; text-decoration-color: #008080; font-weight: bold\">0.9408661422832246</span>\n",
       "</pre>\n"
      ],
      "text/plain": [
       "V18 V17 \u001b[1;36m0.9408661422832246\u001b[0m\n"
      ]
     },
     "metadata": {},
     "output_type": "display_data"
    }
   ],
   "source": [
    "data_corr = cc_balanced.corr()\n",
    "\n",
    "for i in range(len(cc_balanced.columns)):\n",
    "    for j in range(i):\n",
    "        if abs(data_corr.iloc[i, j]) > 0.88:\n",
    "            print(data_corr.columns[i], data_corr.columns[j], data_corr.iloc[i, j])"
   ]
  },
  {
   "cell_type": "code",
   "execution_count": 41,
   "metadata": {},
   "outputs": [],
   "source": [
    "cc_balanced = cc_balanced.drop(['V1', 'V7', 'V10', 'V11', 'V14', 'V16', 'V18'], axis = 1)"
   ]
  },
  {
   "attachments": {},
   "cell_type": "markdown",
   "metadata": {},
   "source": [
    "##### Normalización"
   ]
  },
  {
   "cell_type": "code",
   "execution_count": 42,
   "metadata": {},
   "outputs": [],
   "source": [
    "from sklearn.preprocessing import StandardScaler\n",
    "scaler = StandardScaler()\n",
    "\n",
    "\n",
    "cc_balanced.iloc[:,0:-1] = scaler.fit_transform(cc_balanced.iloc[:,0:-1].to_numpy())\n",
    "cc_balanced.to_pickle('./pickled/cc_preprocesados.pkl')"
   ]
  },
  {
   "cell_type": "code",
   "execution_count": 43,
   "metadata": {},
   "outputs": [],
   "source": [
    "import math\n",
    "\n",
    "def convert_to_hours(time_diff):\n",
    "    \"\"\"\n",
    "    Rounds the given time differences (in seconds) to the nearest whole number of hours.\n",
    "    \"\"\"\n",
    "    \n",
    "    if time_diff > 43200:\n",
    "        time_diff = time_diff / 2\n",
    "        \n",
    "    return int(math.floor(time_diff / 3600))\n",
    "\n",
    "df_temp = pd.read_csv('./data/creditcard.csv')\n",
    "df_prep = pd.read_pickle('./pickled/cc_preprocesados.pkl')\n",
    "\n",
    "df_prep['Hour'] = df_temp['Time'].apply(convert_to_hours)"
   ]
  },
  {
   "cell_type": "code",
   "execution_count": 44,
   "metadata": {},
   "outputs": [],
   "source": [
    "last_column = df_prep.pop('Hour')\n",
    "df_prep.drop(['Time'], axis = 1, inplace = True)\n",
    "df_prep.insert(0, 'Hour', last_column)"
   ]
  },
  {
   "cell_type": "code",
   "execution_count": 45,
   "metadata": {},
   "outputs": [],
   "source": [
    "df_prep.to_pickle('./pickled/cc_prep_final.pkl')"
   ]
  },
  {
   "cell_type": "code",
   "execution_count": 46,
   "metadata": {},
   "outputs": [
    {
     "data": {
      "text/html": [
       "<pre style=\"white-space:pre;overflow-x:auto;line-height:normal;font-family:Menlo,'DejaVu Sans Mono',consolas,'Courier New',monospace\">count    <span style=\"color: #008080; text-decoration-color: #008080; font-weight: bold\">284807.000000</span>\n",
       "mean         <span style=\"color: #008080; text-decoration-color: #008080; font-weight: bold\">13.326017</span>\n",
       "std           <span style=\"color: #008080; text-decoration-color: #008080; font-weight: bold\">5.921520</span>\n",
       "min           <span style=\"color: #008080; text-decoration-color: #008080; font-weight: bold\">0.000000</span>\n",
       "<span style=\"color: #008080; text-decoration-color: #008080; font-weight: bold\">25</span>%           <span style=\"color: #008080; text-decoration-color: #008080; font-weight: bold\">9.000000</span>\n",
       "<span style=\"color: #008080; text-decoration-color: #008080; font-weight: bold\">50</span>%          <span style=\"color: #008080; text-decoration-color: #008080; font-weight: bold\">11.000000</span>\n",
       "<span style=\"color: #008080; text-decoration-color: #008080; font-weight: bold\">75</span>%          <span style=\"color: #008080; text-decoration-color: #008080; font-weight: bold\">19.000000</span>\n",
       "max          <span style=\"color: #008080; text-decoration-color: #008080; font-weight: bold\">23.000000</span>\n",
       "Name: Hour, dtype: float64\n",
       "</pre>\n"
      ],
      "text/plain": [
       "count    \u001b[1;36m284807.000000\u001b[0m\n",
       "mean         \u001b[1;36m13.326017\u001b[0m\n",
       "std           \u001b[1;36m5.921520\u001b[0m\n",
       "min           \u001b[1;36m0.000000\u001b[0m\n",
       "\u001b[1;36m25\u001b[0m%           \u001b[1;36m9.000000\u001b[0m\n",
       "\u001b[1;36m50\u001b[0m%          \u001b[1;36m11.000000\u001b[0m\n",
       "\u001b[1;36m75\u001b[0m%          \u001b[1;36m19.000000\u001b[0m\n",
       "max          \u001b[1;36m23.000000\u001b[0m\n",
       "Name: Hour, dtype: float64\n"
      ]
     },
     "metadata": {},
     "output_type": "display_data"
    }
   ],
   "source": [
    "print(df_prep['Hour'].describe())"
   ]
  },
  {
   "cell_type": "code",
   "execution_count": 47,
   "metadata": {},
   "outputs": [
    {
     "data": {
      "text/html": [
       "<pre style=\"white-space:pre;overflow-x:auto;line-height:normal;font-family:Menlo,'DejaVu Sans Mono',consolas,'Courier New',monospace\"><span style=\"color: #008080; text-decoration-color: #008080; font-weight: bold\">568630</span>\n",
       "</pre>\n"
      ],
      "text/plain": [
       "\u001b[1;36m568630\u001b[0m\n"
      ]
     },
     "metadata": {},
     "output_type": "display_data"
    },
    {
     "data": {
      "text/html": [
       "<pre style=\"white-space:pre;overflow-x:auto;line-height:normal;font-family:Menlo,'DejaVu Sans Mono',consolas,'Courier New',monospace\">Training sample: <span style=\"font-weight: bold\">(</span><span style=\"color: #008080; text-decoration-color: #008080; font-weight: bold\">284315</span>, <span style=\"color: #008080; text-decoration-color: #008080; font-weight: bold\">24</span><span style=\"font-weight: bold\">)</span>\n",
       "</pre>\n"
      ],
      "text/plain": [
       "Training sample: \u001b[1m(\u001b[0m\u001b[1;36m284315\u001b[0m, \u001b[1;36m24\u001b[0m\u001b[1m)\u001b[0m\n"
      ]
     },
     "metadata": {},
     "output_type": "display_data"
    },
    {
     "data": {
      "text/html": [
       "<pre style=\"white-space:pre;overflow-x:auto;line-height:normal;font-family:Menlo,'DejaVu Sans Mono',consolas,'Courier New',monospace\">Validation sample: <span style=\"font-weight: bold\">(</span><span style=\"color: #008080; text-decoration-color: #008080; font-weight: bold\">142157</span>, <span style=\"color: #008080; text-decoration-color: #008080; font-weight: bold\">24</span><span style=\"font-weight: bold\">)</span>\n",
       "</pre>\n"
      ],
      "text/plain": [
       "Validation sample: \u001b[1m(\u001b[0m\u001b[1;36m142157\u001b[0m, \u001b[1;36m24\u001b[0m\u001b[1m)\u001b[0m\n"
      ]
     },
     "metadata": {},
     "output_type": "display_data"
    },
    {
     "data": {
      "text/html": [
       "<pre style=\"white-space:pre;overflow-x:auto;line-height:normal;font-family:Menlo,'DejaVu Sans Mono',consolas,'Courier New',monospace\">Test sample: <span style=\"font-weight: bold\">(</span><span style=\"color: #008080; text-decoration-color: #008080; font-weight: bold\">142158</span>, <span style=\"color: #008080; text-decoration-color: #008080; font-weight: bold\">24</span><span style=\"font-weight: bold\">)</span>\n",
       "</pre>\n"
      ],
      "text/plain": [
       "Test sample: \u001b[1m(\u001b[0m\u001b[1;36m142158\u001b[0m, \u001b[1;36m24\u001b[0m\u001b[1m)\u001b[0m\n"
      ]
     },
     "metadata": {},
     "output_type": "display_data"
    }
   ],
   "source": [
    "df_prep = pd.read_pickle('./pickled/cc_prep_final.pkl')\n",
    "\n",
    "print(len(df_prep))\n",
    "\n",
    "training_sample, test_smaple = train_test_split(df_prep, test_size = 0.5, random_state = 42)\n",
    "validation_sample, test_sample = train_test_split(test_smaple, test_size = 0.5, random_state = 42)\n",
    "\n",
    "print(f\"Training sample: {training_sample.shape}\")\n",
    "print(f\"Validation sample: {validation_sample.shape}\")\n",
    "print(f\"Test sample: {test_sample.shape}\")"
   ]
  },
  {
   "cell_type": "code",
   "execution_count": null,
   "metadata": {},
   "outputs": [],
   "source": []
  }
 ],
 "metadata": {
  "kernelspec": {
   "display_name": "TID-grupo02",
   "language": "python",
   "name": "python3"
  },
  "language_info": {
   "codemirror_mode": {
    "name": "ipython",
    "version": 3
   },
   "file_extension": ".py",
   "mimetype": "text/x-python",
   "name": "python",
   "nbconvert_exporter": "python",
   "pygments_lexer": "ipython3",
   "version": "3.10.10"
  },
  "orig_nbformat": 4
 },
 "nbformat": 4,
 "nbformat_minor": 2
}
